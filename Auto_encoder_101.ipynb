{
  "nbformat": 4,
  "nbformat_minor": 0,
  "metadata": {
    "colab": {
      "name": "Auto-encoder-101.ipynb",
      "provenance": [],
      "authorship_tag": "ABX9TyM9iLYaY8Jl32nhaiC2xts/",
      "include_colab_link": true
    },
    "kernelspec": {
      "name": "python3",
      "display_name": "Python 3"
    },
    "language_info": {
      "name": "python"
    },
    "accelerator": "GPU"
  },
  "cells": [
    {
      "cell_type": "markdown",
      "metadata": {
        "id": "view-in-github",
        "colab_type": "text"
      },
      "source": [
        "<a href=\"https://colab.research.google.com/github/HENILCHOPRA/AutoEncoders/blob/main/Auto_encoder_101.ipynb\" target=\"_parent\"><img src=\"https://colab.research.google.com/assets/colab-badge.svg\" alt=\"Open In Colab\"/></a>"
      ]
    },
    {
      "cell_type": "code",
      "metadata": {
        "id": "Z68hf2idBf3G",
        "colab": {
          "base_uri": "https://localhost:8080/"
        },
        "outputId": "5a1126cf-f0fd-4ece-913b-b8cf4ce52dc9"
      },
      "source": [
        "!pip install fastai --upgrade"
      ],
      "execution_count": null,
      "outputs": [
        {
          "output_type": "stream",
          "name": "stdout",
          "text": [
            "Requirement already satisfied: threadpoolctl>=2.0.0 in /usr/local/lib/python3.7/dist-packages (from scikit-learn->fastai) (3.0.0)\n",
            "Requirement already satisfied: joblib>=0.11 in /usr/local/lib/python3.7/dist-packages (from scikit-learn->fastai) (1.1.0)\n",
            "Installing collected packages: fastcore, fastdownload, fastai\n",
            "  Attempting uninstall: fastai\n",
            "    Found existing installation: fastai 1.0.61\n",
            "    Uninstalling fastai-1.0.61:\n",
            "      Successfully uninstalled fastai-1.0.61\n",
            "Successfully installed fastai-2.5.3 fastcore-1.3.27 fastdownload-0.0.5\n"
          ]
        }
      ]
    },
    {
      "cell_type": "code",
      "metadata": {
        "colab": {
          "base_uri": "https://localhost:8080/",
          "height": 37
        },
        "id": "6QqCJ6soBPD5",
        "outputId": "7cbd0ee7-4b59-4645-b989-a22c5ccb1842"
      },
      "source": [
        "from fastai.data.external import untar_data, URLs\n",
        "coco_path = untar_data(URLs.CIFAR)\n",
        "# coco_path = str(coco_path) + \"/train_sample/\""
      ],
      "execution_count": null,
      "outputs": [
        {
          "output_type": "display_data",
          "data": {
            "text/html": [
              "\n",
              "    <div>\n",
              "        <style>\n",
              "            /* Turns off some styling */\n",
              "            progress {\n",
              "                /* gets rid of default border in Firefox and Opera. */\n",
              "                border: none;\n",
              "                /* Needs to be in here for Safari polyfill so background images work as expected. */\n",
              "                background-size: auto;\n",
              "            }\n",
              "            .progress-bar-interrupted, .progress-bar-interrupted::-webkit-progress-bar {\n",
              "                background: #F44336;\n",
              "            }\n",
              "        </style>\n",
              "      <progress value='168173568' class='' max='168168549' style='width:300px; height:20px; vertical-align: middle;'></progress>\n",
              "      100.00% [168173568/168168549 00:02<00:00]\n",
              "    </div>\n",
              "    "
            ],
            "text/plain": [
              "<IPython.core.display.HTML object>"
            ]
          },
          "metadata": {}
        }
      ]
    },
    {
      "cell_type": "code",
      "metadata": {
        "id": "UCr5pWw_Wv7n"
      },
      "source": [
        "data_path = str(coco_path) + '/train/dog/'"
      ],
      "execution_count": null,
      "outputs": []
    },
    {
      "cell_type": "code",
      "metadata": {
        "id": "oPWn-6osXmlS"
      },
      "source": [
        ""
      ],
      "execution_count": null,
      "outputs": []
    },
    {
      "cell_type": "code",
      "metadata": {
        "id": "QtaaJ9PpCSi1"
      },
      "source": [
        "import os\n",
        "import numpy as np\n",
        "import matplotlib.pyplot as plt\n",
        "from shutil import copy\n",
        "import cv2\n",
        "from PIL import Image\n",
        "import random\n",
        "\n",
        "from sklearn.model_selection import train_test_split\n",
        "import tensorflow as tf\n",
        "\n",
        "import tensorflow.keras.layers\n",
        "import tensorflow.keras.models\n",
        "import tensorflow.keras.optimizers\n",
        "import tensorflow.keras.datasets\n",
        "\n",
        "batch_size = 32\n",
        "sample_size = 2500\n"
      ],
      "execution_count": null,
      "outputs": []
    },
    {
      "cell_type": "code",
      "metadata": {
        "id": "jl0cbb1pDY1n"
      },
      "source": [
        "all_paths = os.listdir(data_path)\n",
        "sample_images = []\n",
        "for i in range(10):\n",
        "  sample_images.append(cv2.imread(data_path + random.choice(all_paths)))"
      ],
      "execution_count": null,
      "outputs": []
    },
    {
      "cell_type": "code",
      "metadata": {
        "colab": {
          "base_uri": "https://localhost:8080/",
          "height": 354
        },
        "id": "4C3bl_f_DK5N",
        "outputId": "1b441976-f43a-473b-b055-abc236414a2d"
      },
      "source": [
        "f, axarr = plt.subplots(2,5, figsize = (10, 7)) \n",
        "for i in range(len(sample_images)):\n",
        "    axarr[i//5, i%5].imshow(sample_images[i][:,:,::-1])"
      ],
      "execution_count": null,
      "outputs": [
        {
          "output_type": "display_data",
          "data": {
            "image/png": "[encoded data removed]",
            "text/plain": [
              "<Figure size 720x504 with 10 Axes>"
            ]
          },
          "metadata": {
            "needs_background": "light"
          }
        }
      ]
    },
    {
      "cell_type": "code",
      "metadata": {
        "id": "QsM2leXbEGhK"
      },
      "source": [
        "data_paths = random.sample(all_paths, sample_size)"
      ],
      "execution_count": null,
      "outputs": []
    },
    {
      "cell_type": "code",
      "metadata": {
        "id": "tnIi7FL1J71Q"
      },
      "source": [
        "x = []\n",
        "y = []\n",
        "for path in data_paths:\n",
        "  img = cv2.imread(data_path + path)\n",
        "  img = cv2.cvtColor(img, cv2.COLOR_BGR2GRAY) /255\n",
        "  x.append(np.asarray(img).astype('float32'))"
      ],
      "execution_count": null,
      "outputs": []
    },
    {
      "cell_type": "code",
      "metadata": {
        "id": "w1MPB92RJrl8"
      },
      "source": [
        "# Train-test splitting\n",
        "train_x, test_x, train_y, test_y = train_test_split( np.array(x) , np.zeros((len(x))) , test_size=0.3 )\n",
        "\n",
        "x_train = np.reshape(train_x, newshape=(train_x.shape[0], np.prod(train_x.shape[1:])))\n",
        "x_test = np.reshape(train_x, newshape=(train_x.shape[0], np.prod(train_x.shape[1:])))"
      ],
      "execution_count": null,
      "outputs": []
    },
    {
      "cell_type": "code",
      "metadata": {
        "colab": {
          "base_uri": "https://localhost:8080/"
        },
        "id": "NGOE93nsVdkg",
        "outputId": "95812c70-ed85-4818-dad2-3c4dfbf7328d"
      },
      "source": [
        "# Encoder\n",
        "x = tensorflow.keras.layers.Input(shape=(x_train[0].shape[0]), name=\"encoder_input\")\n",
        "\n",
        "encoder_dense_layer1 = tensorflow.keras.layers.Dense(units=512, name=\"encoder_dense_1\")(x)\n",
        "encoder_activ_layer1 = tensorflow.keras.layers.LeakyReLU(name=\"encoder_leakyrelu_1\")(encoder_dense_layer1)\n",
        "\n",
        "encoder_dense_layer2 = tensorflow.keras.layers.Dense(units=264, name=\"encoder_dense_2\")(encoder_activ_layer1)\n",
        "encoder_output = tensorflow.keras.layers.LeakyReLU(name=\"encoder_leakyrelu_2\")(encoder_dense_layer2)\n",
        "\n",
        "# encoder_dense_layer3 = tensorflow.keras.layers.Dense(units=128, name=\"encoder_dense_3\")(encoder_activ_layer2)\n",
        "# encoder_output = tensorflow.keras.layers.LeakyReLU(name=\"encoder_leakyrelu_3\")(encoder_dense_layer3)\n",
        "\n",
        "# encoder_dense_layer4 = tensorflow.keras.layers.Dense(units=64, name=\"encoder_dense_4\")(encoder_activ_layer3)\n",
        "# encoder_output = tensorflow.keras.layers.LeakyReLU(name=\"encoder_output\")(encoder_dense_layer4)\n",
        "\n",
        "encoder = tensorflow.keras.models.Model(x, encoder_output, name=\"encoder_model\")\n",
        "encoder.summary()\n",
        "\n",
        "# Decoder\n",
        "decoder_input = tensorflow.keras.layers.Input(shape=(264), name=\"decoder_input\")\n",
        "\n",
        "# decoder_dense_layer1 = tensorflow.keras.layers.Dense(units=128, name=\"decoder_dense_1\")(decoder_input)\n",
        "# decoder_activ_layer1 = tensorflow.keras.layers.LeakyReLU(name=\"decoder_leakyrelu_1\")(decoder_dense_layer1)\n",
        "\n",
        "# decoder_dense_layer2 = tensorflow.keras.layers.Dense(units=264, name=\"decoder_dense_2\")(decoder_input)\n",
        "# decoder_activ_layer2 = tensorflow.keras.layers.LeakyReLU(name=\"decoder_leakyrelu_2\")(decoder_dense_layer2)\n",
        "\n",
        "decoder_dense_layer3 = tensorflow.keras.layers.Dense(units=512, name=\"decoder_dense_3\")(decoder_input)\n",
        "decoder_activ_layer3 = tensorflow.keras.layers.LeakyReLU(name=\"decoder_leakyrelu_3\")(decoder_dense_layer3)\n",
        "\n",
        "decoder_dense_layer4 = tensorflow.keras.layers.Dense(units=x_train[0].shape[0], name=\"decoder_dense_4\")(decoder_activ_layer3)\n",
        "decoder_output = tensorflow.keras.layers.LeakyReLU(name=\"decoder_output\")(decoder_dense_layer4)\n",
        "\n",
        "decoder = tensorflow.keras.models.Model(decoder_input, decoder_output, name=\"decoder_model\")\n",
        "decoder.summary()\n"
      ],
      "execution_count": null,
      "outputs": [
        {
          "output_type": "stream",
          "name": "stdout",
          "text": [
            "Model: \"encoder_model\"\n",
            "_________________________________________________________________\n",
            " Layer (type)                Output Shape              Param #   \n",
            "=================================================================\n",
            " encoder_input (InputLayer)  [(None, 1024)]            0         \n",
            "                                                                 \n",
            " encoder_dense_1 (Dense)     (None, 512)               524800    \n",
            "                                                                 \n",
            " encoder_leakyrelu_1 (LeakyR  (None, 512)              0         \n",
            " eLU)                                                            \n",
            "                                                                 \n",
            " encoder_dense_2 (Dense)     (None, 264)               135432    \n",
            "                                                                 \n",
            " encoder_leakyrelu_2 (LeakyR  (None, 264)              0         \n",
            " eLU)                                                            \n",
            "                                                                 \n",
            "=================================================================\n",
            "Total params: 660,232\n",
            "Trainable params: 660,232\n",
            "Non-trainable params: 0\n",
            "_________________________________________________________________\n",
            "Model: \"decoder_model\"\n",
            "_________________________________________________________________\n",
            " Layer (type)                Output Shape              Param #   \n",
            "=================================================================\n",
            " decoder_input (InputLayer)  [(None, 264)]             0         \n",
            "                                                                 \n",
            " decoder_dense_3 (Dense)     (None, 512)               135680    \n",
            "                                                                 \n",
            " decoder_leakyrelu_3 (LeakyR  (None, 512)              0         \n",
            " eLU)                                                            \n",
            "                                                                 \n",
            " decoder_dense_4 (Dense)     (None, 1024)              525312    \n",
            "                                                                 \n",
            " decoder_output (LeakyReLU)  (None, 1024)              0         \n",
            "                                                                 \n",
            "=================================================================\n",
            "Total params: 660,992\n",
            "Trainable params: 660,992\n",
            "Non-trainable params: 0\n",
            "_________________________________________________________________\n"
          ]
        }
      ]
    },
    {
      "cell_type": "code",
      "metadata": {
        "colab": {
          "base_uri": "https://localhost:8080/"
        },
        "id": "VekMqTh0ckMR",
        "outputId": "cc640342-1f17-4d31-871a-8133e5ddd80a"
      },
      "source": [
        "# Autoencoder\n",
        "ae_input = tensorflow.keras.layers.Input(shape=(x_train[0].shape[0]), name=\"AE_input\")\n",
        "ae_encoder_output = encoder(ae_input)\n",
        "ae_decoder_output = decoder(ae_encoder_output)\n",
        "\n",
        "ae = tensorflow.keras.models.Model(ae_input, ae_decoder_output, name=\"AE\")\n",
        "ae.summary()"
      ],
      "execution_count": null,
      "outputs": [
        {
          "output_type": "stream",
          "name": "stdout",
          "text": [
            "Model: \"AE\"\n",
            "_________________________________________________________________\n",
            " Layer (type)                Output Shape              Param #   \n",
            "=================================================================\n",
            " AE_input (InputLayer)       [(None, 1024)]            0         \n",
            "                                                                 \n",
            " encoder_model (Functional)  (None, 264)               660232    \n",
            "                                                                 \n",
            " decoder_model (Functional)  (None, 1024)              660992    \n",
            "                                                                 \n",
            "=================================================================\n",
            "Total params: 1,321,224\n",
            "Trainable params: 1,321,224\n",
            "Non-trainable params: 0\n",
            "_________________________________________________________________\n"
          ]
        }
      ]
    },
    {
      "cell_type": "code",
      "metadata": {
        "colab": {
          "base_uri": "https://localhost:8080/"
        },
        "id": "Xz96KHUVelQl",
        "outputId": "477618df-bc5d-453b-f78a-b3486dc8338e"
      },
      "source": [
        "# RMSE\n",
        "def rmse(y_true, y_predict):\n",
        "    return tensorflow.keras.backend.mean(tensorflow.keras.backend.square(y_true-y_predict))\n",
        "\n",
        "# AE Compilation\n",
        "ae.compile(loss=\"mse\", optimizer=tensorflow.keras.optimizers.Adam(lr=0.0005))"
      ],
      "execution_count": null,
      "outputs": [
        {
          "output_type": "stream",
          "name": "stderr",
          "text": [
            "/usr/local/lib/python3.7/dist-packages/keras/optimizer_v2/adam.py:105: UserWarning: The `lr` argument is deprecated, use `learning_rate` instead.\n",
            "  super(Adam, self).__init__(name, **kwargs)\n"
          ]
        }
      ]
    },
    {
      "cell_type": "code",
      "metadata": {
        "colab": {
          "base_uri": "https://localhost:8080/"
        },
        "id": "7EhGat9aenxC",
        "outputId": "9f3814ba-234c-4364-941c-5fb7ca4763da"
      },
      "source": [
        "ae.fit(x_train, x_train, epochs=200, batch_size=54, shuffle=True, validation_data=(x_test, x_test))\n",
        "\n",
        "encoded_images = encoder.predict(x_train)\n",
        "decoded_images = decoder.predict(encoded_images)\n",
        "decoded_images_orig = np.reshape(decoded_images, newshape=(decoded_images.shape[0], 32, 32))"
      ],
      "execution_count": null,
      "outputs": [
        {
          "output_type": "stream",
          "name": "stdout",
          "text": [
            "Epoch 1/200\n",
            "33/33 [==============================] - 1s 15ms/step - loss: 0.0695 - val_loss: 0.0363\n",
            "Epoch 2/200\n",
            "33/33 [==============================] - 0s 10ms/step - loss: 0.0311 - val_loss: 0.0266\n",
            "Epoch 3/200\n",
            "33/33 [==============================] - 0s 9ms/step - loss: 0.0244 - val_loss: 0.0224\n",
            "Epoch 4/200\n",
            "33/33 [==============================] - 0s 10ms/step - loss: 0.0207 - val_loss: 0.0191\n",
            "Epoch 5/200\n",
            "33/33 [==============================] - 0s 8ms/step - loss: 0.0180 - val_loss: 0.0167\n",
            "Epoch 6/200\n",
            "33/33 [==============================] - 0s 8ms/step - loss: 0.0162 - val_loss: 0.0154\n",
            "Epoch 7/200\n",
            "33/33 [==============================] - 0s 10ms/step - loss: 0.0148 - val_loss: 0.0140\n",
            "Epoch 8/200\n",
            "33/33 [==============================] - 0s 10ms/step - loss: 0.0137 - val_loss: 0.0131\n",
            "Epoch 9/200\n",
            "33/33 [==============================] - 0s 7ms/step - loss: 0.0129 - val_loss: 0.0123\n",
            "Epoch 10/200\n",
            "33/33 [==============================] - 0s 7ms/step - loss: 0.0121 - val_loss: 0.0119\n",
            "Epoch 11/200\n",
            "33/33 [==============================] - 0s 8ms/step - loss: 0.0114 - val_loss: 0.0110\n",
            "Epoch 12/200\n",
            "33/33 [==============================] - 0s 8ms/step - loss: 0.0109 - val_loss: 0.0106\n",
            "Epoch 13/200\n",
            "33/33 [==============================] - 0s 10ms/step - loss: 0.0105 - val_loss: 0.0102\n",
            "Epoch 14/200\n",
            "33/33 [==============================] - 0s 8ms/step - loss: 0.0100 - val_loss: 0.0103\n",
            "Epoch 15/200\n",
            "33/33 [==============================] - 0s 8ms/step - loss: 0.0097 - val_loss: 0.0093\n",
            "Epoch 16/200\n",
            "33/33 [==============================] - 0s 9ms/step - loss: 0.0092 - val_loss: 0.0090\n",
            "Epoch 17/200\n",
            "33/33 [==============================] - 0s 8ms/step - loss: 0.0089 - val_loss: 0.0086\n",
            "Epoch 18/200\n",
            "33/33 [==============================] - 0s 11ms/step - loss: 0.0086 - val_loss: 0.0085\n",
            "Epoch 19/200\n",
            "33/33 [==============================] - 0s 8ms/step - loss: 0.0084 - val_loss: 0.0084\n",
            "Epoch 20/200\n",
            "33/33 [==============================] - 0s 8ms/step - loss: 0.0081 - val_loss: 0.0080\n",
            "Epoch 21/200\n",
            "33/33 [==============================] - 0s 9ms/step - loss: 0.0079 - val_loss: 0.0077\n",
            "Epoch 22/200\n",
            "33/33 [==============================] - 0s 10ms/step - loss: 0.0077 - val_loss: 0.0075\n",
            "Epoch 23/200\n",
            "33/33 [==============================] - 0s 9ms/step - loss: 0.0076 - val_loss: 0.0075\n",
            "Epoch 24/200\n",
            "33/33 [==============================] - 0s 10ms/step - loss: 0.0074 - val_loss: 0.0073\n",
            "Epoch 25/200\n",
            "33/33 [==============================] - 0s 10ms/step - loss: 0.0072 - val_loss: 0.0070\n",
            "Epoch 26/200\n",
            "33/33 [==============================] - 0s 8ms/step - loss: 0.0071 - val_loss: 0.0073\n",
            "Epoch 27/200\n",
            "33/33 [==============================] - 0s 7ms/step - loss: 0.0071 - val_loss: 0.0067\n",
            "Epoch 28/200\n",
            "33/33 [==============================] - 0s 10ms/step - loss: 0.0068 - val_loss: 0.0073\n",
            "Epoch 29/200\n",
            "33/33 [==============================] - 0s 8ms/step - loss: 0.0067 - val_loss: 0.0065\n",
            "Epoch 30/200\n",
            "33/33 [==============================] - 0s 8ms/step - loss: 0.0065 - val_loss: 0.0064\n",
            "Epoch 31/200\n",
            "33/33 [==============================] - 0s 10ms/step - loss: 0.0064 - val_loss: 0.0062\n",
            "Epoch 32/200\n",
            "33/33 [==============================] - 0s 8ms/step - loss: 0.0063 - val_loss: 0.0062\n",
            "Epoch 33/200\n",
            "33/33 [==============================] - 0s 10ms/step - loss: 0.0062 - val_loss: 0.0063\n",
            "Epoch 34/200\n",
            "33/33 [==============================] - 0s 8ms/step - loss: 0.0063 - val_loss: 0.0061\n",
            "Epoch 35/200\n",
            "33/33 [==============================] - 0s 8ms/step - loss: 0.0060 - val_loss: 0.0058\n",
            "Epoch 36/200\n",
            "33/33 [==============================] - 0s 8ms/step - loss: 0.0059 - val_loss: 0.0059\n",
            "Epoch 37/200\n",
            "33/33 [==============================] - 0s 10ms/step - loss: 0.0058 - val_loss: 0.0058\n",
            "Epoch 38/200\n",
            "33/33 [==============================] - 0s 10ms/step - loss: 0.0057 - val_loss: 0.0056\n",
            "Epoch 39/200\n",
            "33/33 [==============================] - 0s 10ms/step - loss: 0.0056 - val_loss: 0.0056\n",
            "Epoch 40/200\n",
            "33/33 [==============================] - 0s 9ms/step - loss: 0.0056 - val_loss: 0.0055\n",
            "Epoch 41/200\n",
            "33/33 [==============================] - 0s 10ms/step - loss: 0.0055 - val_loss: 0.0054\n",
            "Epoch 42/200\n",
            "33/33 [==============================] - 0s 8ms/step - loss: 0.0054 - val_loss: 0.0054\n",
            "Epoch 43/200\n",
            "33/33 [==============================] - 0s 8ms/step - loss: 0.0054 - val_loss: 0.0053\n",
            "Epoch 44/200\n",
            "33/33 [==============================] - 0s 8ms/step - loss: 0.0053 - val_loss: 0.0052\n",
            "Epoch 45/200\n",
            "33/33 [==============================] - 0s 8ms/step - loss: 0.0052 - val_loss: 0.0052\n",
            "Epoch 46/200\n",
            "33/33 [==============================] - 0s 10ms/step - loss: 0.0051 - val_loss: 0.0051\n",
            "Epoch 47/200\n",
            "33/33 [==============================] - 0s 7ms/step - loss: 0.0051 - val_loss: 0.0051\n",
            "Epoch 48/200\n",
            "33/33 [==============================] - 0s 8ms/step - loss: 0.0050 - val_loss: 0.0050\n",
            "Epoch 49/200\n",
            "33/33 [==============================] - 0s 10ms/step - loss: 0.0051 - val_loss: 0.0050\n",
            "Epoch 50/200\n",
            "33/33 [==============================] - 0s 7ms/step - loss: 0.0050 - val_loss: 0.0051\n",
            "Epoch 51/200\n",
            "33/33 [==============================] - 0s 8ms/step - loss: 0.0049 - val_loss: 0.0048\n",
            "Epoch 52/200\n",
            "33/33 [==============================] - 0s 8ms/step - loss: 0.0050 - val_loss: 0.0051\n",
            "Epoch 53/200\n",
            "33/33 [==============================] - 0s 8ms/step - loss: 0.0048 - val_loss: 0.0047\n",
            "Epoch 54/200\n",
            "33/33 [==============================] - 0s 10ms/step - loss: 0.0047 - val_loss: 0.0047\n",
            "Epoch 55/200\n",
            "33/33 [==============================] - 0s 8ms/step - loss: 0.0048 - val_loss: 0.0047\n",
            "Epoch 56/200\n",
            "33/33 [==============================] - 0s 8ms/step - loss: 0.0046 - val_loss: 0.0047\n",
            "Epoch 57/200\n",
            "33/33 [==============================] - 0s 7ms/step - loss: 0.0046 - val_loss: 0.0045\n",
            "Epoch 58/200\n",
            "33/33 [==============================] - 0s 9ms/step - loss: 0.0046 - val_loss: 0.0046\n",
            "Epoch 59/200\n",
            "33/33 [==============================] - 0s 10ms/step - loss: 0.0045 - val_loss: 0.0044\n",
            "Epoch 60/200\n",
            "33/33 [==============================] - 0s 10ms/step - loss: 0.0045 - val_loss: 0.0044\n",
            "Epoch 61/200\n",
            "33/33 [==============================] - 0s 8ms/step - loss: 0.0045 - val_loss: 0.0044\n",
            "Epoch 62/200\n",
            "33/33 [==============================] - 0s 8ms/step - loss: 0.0044 - val_loss: 0.0043\n",
            "Epoch 63/200\n",
            "33/33 [==============================] - 0s 8ms/step - loss: 0.0043 - val_loss: 0.0043\n",
            "Epoch 64/200\n",
            "33/33 [==============================] - 0s 8ms/step - loss: 0.0043 - val_loss: 0.0043\n",
            "Epoch 65/200\n",
            "33/33 [==============================] - 0s 9ms/step - loss: 0.0043 - val_loss: 0.0042\n",
            "Epoch 66/200\n",
            "33/33 [==============================] - 0s 8ms/step - loss: 0.0044 - val_loss: 0.0046\n",
            "Epoch 67/200\n",
            "33/33 [==============================] - 0s 10ms/step - loss: 0.0044 - val_loss: 0.0041\n",
            "Epoch 68/200\n",
            "33/33 [==============================] - 0s 10ms/step - loss: 0.0042 - val_loss: 0.0041\n",
            "Epoch 69/200\n",
            "33/33 [==============================] - 0s 9ms/step - loss: 0.0041 - val_loss: 0.0042\n",
            "Epoch 70/200\n",
            "33/33 [==============================] - 0s 8ms/step - loss: 0.0042 - val_loss: 0.0044\n",
            "Epoch 71/200\n",
            "33/33 [==============================] - 0s 8ms/step - loss: 0.0042 - val_loss: 0.0042\n",
            "Epoch 72/200\n",
            "33/33 [==============================] - 0s 10ms/step - loss: 0.0041 - val_loss: 0.0040\n",
            "Epoch 73/200\n",
            "33/33 [==============================] - 0s 9ms/step - loss: 0.0040 - val_loss: 0.0040\n",
            "Epoch 74/200\n",
            "33/33 [==============================] - 0s 8ms/step - loss: 0.0040 - val_loss: 0.0042\n",
            "Epoch 75/200\n",
            "33/33 [==============================] - 0s 9ms/step - loss: 0.0040 - val_loss: 0.0040\n",
            "Epoch 76/200\n",
            "33/33 [==============================] - 0s 8ms/step - loss: 0.0040 - val_loss: 0.0040\n",
            "Epoch 77/200\n",
            "33/33 [==============================] - 0s 10ms/step - loss: 0.0040 - val_loss: 0.0038\n",
            "Epoch 78/200\n",
            "33/33 [==============================] - 0s 8ms/step - loss: 0.0039 - val_loss: 0.0038\n",
            "Epoch 79/200\n",
            "33/33 [==============================] - 0s 10ms/step - loss: 0.0038 - val_loss: 0.0038\n",
            "Epoch 80/200\n",
            "33/33 [==============================] - 0s 10ms/step - loss: 0.0038 - val_loss: 0.0038\n",
            "Epoch 81/200\n",
            "33/33 [==============================] - 0s 8ms/step - loss: 0.0038 - val_loss: 0.0037\n",
            "Epoch 82/200\n",
            "33/33 [==============================] - 0s 8ms/step - loss: 0.0038 - val_loss: 0.0038\n",
            "Epoch 83/200\n",
            "33/33 [==============================] - 0s 10ms/step - loss: 0.0038 - val_loss: 0.0037\n",
            "Epoch 84/200\n",
            "33/33 [==============================] - 0s 10ms/step - loss: 0.0037 - val_loss: 0.0037\n",
            "Epoch 85/200\n",
            "33/33 [==============================] - 0s 9ms/step - loss: 0.0037 - val_loss: 0.0038\n",
            "Epoch 86/200\n",
            "33/33 [==============================] - 0s 8ms/step - loss: 0.0037 - val_loss: 0.0036\n",
            "Epoch 87/200\n",
            "33/33 [==============================] - 0s 10ms/step - loss: 0.0036 - val_loss: 0.0037\n",
            "Epoch 88/200\n",
            "33/33 [==============================] - 0s 8ms/step - loss: 0.0037 - val_loss: 0.0036\n",
            "Epoch 89/200\n",
            "33/33 [==============================] - 0s 10ms/step - loss: 0.0036 - val_loss: 0.0037\n",
            "Epoch 90/200\n",
            "33/33 [==============================] - 0s 8ms/step - loss: 0.0036 - val_loss: 0.0036\n",
            "Epoch 91/200\n",
            "33/33 [==============================] - 0s 8ms/step - loss: 0.0037 - val_loss: 0.0038\n",
            "Epoch 92/200\n",
            "33/33 [==============================] - 0s 10ms/step - loss: 0.0036 - val_loss: 0.0036\n",
            "Epoch 93/200\n",
            "33/33 [==============================] - 0s 10ms/step - loss: 0.0036 - val_loss: 0.0035\n",
            "Epoch 94/200\n",
            "33/33 [==============================] - 0s 8ms/step - loss: 0.0035 - val_loss: 0.0035\n",
            "Epoch 95/200\n",
            "33/33 [==============================] - 0s 8ms/step - loss: 0.0035 - val_loss: 0.0035\n",
            "Epoch 96/200\n",
            "33/33 [==============================] - 0s 10ms/step - loss: 0.0035 - val_loss: 0.0036\n",
            "Epoch 97/200\n",
            "33/33 [==============================] - 0s 10ms/step - loss: 0.0035 - val_loss: 0.0034\n",
            "Epoch 98/200\n",
            "33/33 [==============================] - 0s 10ms/step - loss: 0.0034 - val_loss: 0.0034\n",
            "Epoch 99/200\n",
            "33/33 [==============================] - 0s 10ms/step - loss: 0.0034 - val_loss: 0.0034\n",
            "Epoch 100/200\n",
            "33/33 [==============================] - 0s 8ms/step - loss: 0.0034 - val_loss: 0.0033\n",
            "Epoch 101/200\n",
            "33/33 [==============================] - 0s 10ms/step - loss: 0.0034 - val_loss: 0.0034\n",
            "Epoch 102/200\n",
            "33/33 [==============================] - 0s 10ms/step - loss: 0.0034 - val_loss: 0.0034\n",
            "Epoch 103/200\n",
            "33/33 [==============================] - 0s 8ms/step - loss: 0.0033 - val_loss: 0.0033\n",
            "Epoch 104/200\n",
            "33/33 [==============================] - 0s 10ms/step - loss: 0.0033 - val_loss: 0.0033\n",
            "Epoch 105/200\n",
            "33/33 [==============================] - 0s 8ms/step - loss: 0.0033 - val_loss: 0.0034\n",
            "Epoch 106/200\n",
            "33/33 [==============================] - 0s 10ms/step - loss: 0.0037 - val_loss: 0.0035\n",
            "Epoch 107/200\n",
            "33/33 [==============================] - 0s 10ms/step - loss: 0.0034 - val_loss: 0.0033\n",
            "Epoch 108/200\n",
            "33/33 [==============================] - 0s 10ms/step - loss: 0.0033 - val_loss: 0.0033\n",
            "Epoch 109/200\n",
            "33/33 [==============================] - 0s 8ms/step - loss: 0.0033 - val_loss: 0.0032\n",
            "Epoch 110/200\n",
            "33/33 [==============================] - 0s 10ms/step - loss: 0.0032 - val_loss: 0.0033\n",
            "Epoch 111/200\n",
            "33/33 [==============================] - 0s 8ms/step - loss: 0.0032 - val_loss: 0.0033\n",
            "Epoch 112/200\n",
            "33/33 [==============================] - 0s 10ms/step - loss: 0.0032 - val_loss: 0.0033\n",
            "Epoch 113/200\n",
            "33/33 [==============================] - 0s 8ms/step - loss: 0.0032 - val_loss: 0.0032\n",
            "Epoch 114/200\n",
            "33/33 [==============================] - 0s 8ms/step - loss: 0.0032 - val_loss: 0.0032\n",
            "Epoch 115/200\n",
            "33/33 [==============================] - 0s 8ms/step - loss: 0.0031 - val_loss: 0.0031\n",
            "Epoch 116/200\n",
            "33/33 [==============================] - 0s 8ms/step - loss: 0.0031 - val_loss: 0.0030\n",
            "Epoch 117/200\n",
            "33/33 [==============================] - 0s 9ms/step - loss: 0.0031 - val_loss: 0.0030\n",
            "Epoch 118/200\n",
            "33/33 [==============================] - 0s 8ms/step - loss: 0.0030 - val_loss: 0.0031\n",
            "Epoch 119/200\n",
            "33/33 [==============================] - 0s 8ms/step - loss: 0.0031 - val_loss: 0.0031\n",
            "Epoch 120/200\n",
            "33/33 [==============================] - 0s 10ms/step - loss: 0.0033 - val_loss: 0.0032\n",
            "Epoch 121/200\n",
            "33/33 [==============================] - 0s 10ms/step - loss: 0.0031 - val_loss: 0.0030\n",
            "Epoch 122/200\n",
            "33/33 [==============================] - 0s 8ms/step - loss: 0.0031 - val_loss: 0.0030\n",
            "Epoch 123/200\n",
            "33/33 [==============================] - 0s 8ms/step - loss: 0.0030 - val_loss: 0.0029\n",
            "Epoch 124/200\n",
            "33/33 [==============================] - 0s 8ms/step - loss: 0.0030 - val_loss: 0.0032\n",
            "Epoch 125/200\n",
            "33/33 [==============================] - 0s 10ms/step - loss: 0.0030 - val_loss: 0.0030\n",
            "Epoch 126/200\n",
            "33/33 [==============================] - 0s 8ms/step - loss: 0.0030 - val_loss: 0.0029\n",
            "Epoch 127/200\n",
            "33/33 [==============================] - 0s 10ms/step - loss: 0.0030 - val_loss: 0.0030\n",
            "Epoch 128/200\n",
            "33/33 [==============================] - 0s 8ms/step - loss: 0.0030 - val_loss: 0.0029\n",
            "Epoch 129/200\n",
            "33/33 [==============================] - 0s 10ms/step - loss: 0.0029 - val_loss: 0.0029\n",
            "Epoch 130/200\n",
            "33/33 [==============================] - 0s 9ms/step - loss: 0.0030 - val_loss: 0.0030\n",
            "Epoch 131/200\n",
            "33/33 [==============================] - 0s 10ms/step - loss: 0.0030 - val_loss: 0.0030\n",
            "Epoch 132/200\n",
            "33/33 [==============================] - 0s 9ms/step - loss: 0.0030 - val_loss: 0.0032\n",
            "Epoch 133/200\n",
            "33/33 [==============================] - 0s 8ms/step - loss: 0.0030 - val_loss: 0.0031\n",
            "Epoch 134/200\n",
            "33/33 [==============================] - 0s 8ms/step - loss: 0.0030 - val_loss: 0.0029\n",
            "Epoch 135/200\n",
            "33/33 [==============================] - 0s 8ms/step - loss: 0.0029 - val_loss: 0.0029\n",
            "Epoch 136/200\n",
            "33/33 [==============================] - 0s 8ms/step - loss: 0.0029 - val_loss: 0.0029\n",
            "Epoch 137/200\n",
            "33/33 [==============================] - 0s 10ms/step - loss: 0.0029 - val_loss: 0.0030\n",
            "Epoch 138/200\n",
            "33/33 [==============================] - 0s 8ms/step - loss: 0.0029 - val_loss: 0.0028\n",
            "Epoch 139/200\n",
            "33/33 [==============================] - 0s 8ms/step - loss: 0.0028 - val_loss: 0.0028\n",
            "Epoch 140/200\n",
            "33/33 [==============================] - 0s 10ms/step - loss: 0.0029 - val_loss: 0.0028\n",
            "Epoch 141/200\n",
            "33/33 [==============================] - 0s 8ms/step - loss: 0.0029 - val_loss: 0.0028\n",
            "Epoch 142/200\n",
            "33/33 [==============================] - 0s 8ms/step - loss: 0.0028 - val_loss: 0.0027\n",
            "Epoch 143/200\n",
            "33/33 [==============================] - 0s 10ms/step - loss: 0.0028 - val_loss: 0.0028\n",
            "Epoch 144/200\n",
            "33/33 [==============================] - 0s 10ms/step - loss: 0.0028 - val_loss: 0.0028\n",
            "Epoch 145/200\n",
            "33/33 [==============================] - 0s 10ms/step - loss: 0.0027 - val_loss: 0.0027\n",
            "Epoch 146/200\n",
            "33/33 [==============================] - 0s 8ms/step - loss: 0.0028 - val_loss: 0.0027\n",
            "Epoch 147/200\n",
            "33/33 [==============================] - 0s 10ms/step - loss: 0.0027 - val_loss: 0.0029\n",
            "Epoch 148/200\n",
            "33/33 [==============================] - 0s 10ms/step - loss: 0.0028 - val_loss: 0.0028\n",
            "Epoch 149/200\n",
            "33/33 [==============================] - 0s 8ms/step - loss: 0.0027 - val_loss: 0.0026\n",
            "Epoch 150/200\n",
            "33/33 [==============================] - 0s 10ms/step - loss: 0.0027 - val_loss: 0.0032\n",
            "Epoch 151/200\n",
            "33/33 [==============================] - 0s 10ms/step - loss: 0.0027 - val_loss: 0.0026\n",
            "Epoch 152/200\n",
            "33/33 [==============================] - 0s 8ms/step - loss: 0.0027 - val_loss: 0.0026\n",
            "Epoch 153/200\n",
            "33/33 [==============================] - 0s 8ms/step - loss: 0.0028 - val_loss: 0.0027\n",
            "Epoch 154/200\n",
            "33/33 [==============================] - 0s 8ms/step - loss: 0.0028 - val_loss: 0.0026\n",
            "Epoch 155/200\n",
            "33/33 [==============================] - 0s 10ms/step - loss: 0.0026 - val_loss: 0.0027\n",
            "Epoch 156/200\n",
            "33/33 [==============================] - 0s 8ms/step - loss: 0.0026 - val_loss: 0.0026\n",
            "Epoch 157/200\n",
            "33/33 [==============================] - 0s 8ms/step - loss: 0.0026 - val_loss: 0.0026\n",
            "Epoch 158/200\n",
            "33/33 [==============================] - 0s 10ms/step - loss: 0.0027 - val_loss: 0.0026\n",
            "Epoch 159/200\n",
            "33/33 [==============================] - 0s 8ms/step - loss: 0.0026 - val_loss: 0.0026\n",
            "Epoch 160/200\n",
            "33/33 [==============================] - 0s 10ms/step - loss: 0.0026 - val_loss: 0.0026\n",
            "Epoch 161/200\n",
            "33/33 [==============================] - 0s 8ms/step - loss: 0.0026 - val_loss: 0.0026\n",
            "Epoch 162/200\n",
            "33/33 [==============================] - 0s 8ms/step - loss: 0.0026 - val_loss: 0.0025\n",
            "Epoch 163/200\n",
            "33/33 [==============================] - 0s 8ms/step - loss: 0.0026 - val_loss: 0.0026\n",
            "Epoch 164/200\n",
            "33/33 [==============================] - 0s 8ms/step - loss: 0.0025 - val_loss: 0.0025\n",
            "Epoch 165/200\n",
            "33/33 [==============================] - 0s 8ms/step - loss: 0.0025 - val_loss: 0.0027\n",
            "Epoch 166/200\n",
            "33/33 [==============================] - 0s 8ms/step - loss: 0.0026 - val_loss: 0.0026\n",
            "Epoch 167/200\n",
            "33/33 [==============================] - 0s 9ms/step - loss: 0.0025 - val_loss: 0.0025\n",
            "Epoch 168/200\n",
            "33/33 [==============================] - 0s 10ms/step - loss: 0.0025 - val_loss: 0.0025\n",
            "Epoch 169/200\n",
            "33/33 [==============================] - 0s 10ms/step - loss: 0.0025 - val_loss: 0.0025\n",
            "Epoch 170/200\n",
            "33/33 [==============================] - 0s 8ms/step - loss: 0.0025 - val_loss: 0.0025\n",
            "Epoch 171/200\n",
            "33/33 [==============================] - 0s 10ms/step - loss: 0.0026 - val_loss: 0.0025\n",
            "Epoch 172/200\n",
            "33/33 [==============================] - 0s 10ms/step - loss: 0.0025 - val_loss: 0.0026\n",
            "Epoch 173/200\n",
            "33/33 [==============================] - 0s 10ms/step - loss: 0.0025 - val_loss: 0.0025\n",
            "Epoch 174/200\n",
            "33/33 [==============================] - 0s 10ms/step - loss: 0.0025 - val_loss: 0.0024\n",
            "Epoch 175/200\n",
            "33/33 [==============================] - 0s 10ms/step - loss: 0.0025 - val_loss: 0.0026\n",
            "Epoch 176/200\n",
            "33/33 [==============================] - 0s 8ms/step - loss: 0.0027 - val_loss: 0.0033\n",
            "Epoch 177/200\n",
            "33/33 [==============================] - 0s 9ms/step - loss: 0.0027 - val_loss: 0.0024\n",
            "Epoch 178/200\n",
            "33/33 [==============================] - 0s 8ms/step - loss: 0.0025 - val_loss: 0.0024\n",
            "Epoch 179/200\n",
            "33/33 [==============================] - 0s 10ms/step - loss: 0.0026 - val_loss: 0.0024\n",
            "Epoch 180/200\n",
            "33/33 [==============================] - 0s 8ms/step - loss: 0.0025 - val_loss: 0.0025\n",
            "Epoch 181/200\n",
            "33/33 [==============================] - 0s 8ms/step - loss: 0.0026 - val_loss: 0.0025\n",
            "Epoch 182/200\n",
            "33/33 [==============================] - 0s 10ms/step - loss: 0.0024 - val_loss: 0.0025\n",
            "Epoch 183/200\n",
            "33/33 [==============================] - 0s 8ms/step - loss: 0.0025 - val_loss: 0.0025\n",
            "Epoch 184/200\n",
            "33/33 [==============================] - 0s 8ms/step - loss: 0.0024 - val_loss: 0.0024\n",
            "Epoch 185/200\n",
            "33/33 [==============================] - 0s 8ms/step - loss: 0.0024 - val_loss: 0.0024\n",
            "Epoch 186/200\n",
            "33/33 [==============================] - 0s 10ms/step - loss: 0.0024 - val_loss: 0.0023\n",
            "Epoch 187/200\n",
            "33/33 [==============================] - 0s 8ms/step - loss: 0.0024 - val_loss: 0.0024\n",
            "Epoch 188/200\n",
            "33/33 [==============================] - 0s 10ms/step - loss: 0.0023 - val_loss: 0.0024\n",
            "Epoch 189/200\n",
            "33/33 [==============================] - 0s 8ms/step - loss: 0.0024 - val_loss: 0.0023\n",
            "Epoch 190/200\n",
            "33/33 [==============================] - 0s 10ms/step - loss: 0.0027 - val_loss: 0.0024\n",
            "Epoch 191/200\n",
            "33/33 [==============================] - 0s 8ms/step - loss: 0.0024 - val_loss: 0.0024\n",
            "Epoch 192/200\n",
            "33/33 [==============================] - 0s 8ms/step - loss: 0.0024 - val_loss: 0.0023\n",
            "Epoch 193/200\n",
            "33/33 [==============================] - 0s 10ms/step - loss: 0.0023 - val_loss: 0.0023\n",
            "Epoch 194/200\n",
            "33/33 [==============================] - 0s 10ms/step - loss: 0.0024 - val_loss: 0.0023\n",
            "Epoch 195/200\n",
            "33/33 [==============================] - 0s 10ms/step - loss: 0.0023 - val_loss: 0.0023\n",
            "Epoch 196/200\n",
            "33/33 [==============================] - 0s 10ms/step - loss: 0.0023 - val_loss: 0.0022\n",
            "Epoch 197/200\n",
            "33/33 [==============================] - 0s 11ms/step - loss: 0.0023 - val_loss: 0.0023\n",
            "Epoch 198/200\n",
            "33/33 [==============================] - 0s 10ms/step - loss: 0.0023 - val_loss: 0.0023\n",
            "Epoch 199/200\n",
            "33/33 [==============================] - 0s 7ms/step - loss: 0.0023 - val_loss: 0.0023\n",
            "Epoch 200/200\n",
            "33/33 [==============================] - 0s 9ms/step - loss: 0.0024 - val_loss: 0.0024\n"
          ]
        }
      ]
    },
    {
      "cell_type": "code",
      "metadata": {
        "colab": {
          "base_uri": "https://localhost:8080/",
          "height": 269
        },
        "id": "PKzIwhgIe5nT",
        "outputId": "9f893e74-b500-487a-d59f-e84343be51f8"
      },
      "source": [
        "num_images_to_show = 5\n",
        "for im_ind in range(num_images_to_show):\n",
        "    plot_ind = im_ind*2 + 1\n",
        "    rand_ind = np.random.randint(low=0, high=x_train.shape[0])\n",
        "    plt.subplot(num_images_to_show, 2, plot_ind)\n",
        "    plt.imshow(x_train[rand_ind].reshape(32,32), cmap=\"gray\")\n",
        "    plt.subplot(num_images_to_show, 2, plot_ind+1)\n",
        "    plt.imshow(decoded_images_orig[rand_ind].reshape(32,32), cmap=\"gray\")"
      ],
      "execution_count": null,
      "outputs": [
        {
          "output_type": "display_data",
          "data": {
            "image/png": "[encoded data removed]",
            "text/plain": [
              "<Figure size 432x288 with 10 Axes>"
            ]
          },
          "metadata": {
            "needs_background": "light"
          }
        }
      ]
    }
  ]
}